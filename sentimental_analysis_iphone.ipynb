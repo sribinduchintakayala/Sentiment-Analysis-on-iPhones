{
 "cells": [
  {
   "cell_type": "code",
   "execution_count": 1,
   "id": "9ee4a7c9",
   "metadata": {},
   "outputs": [
    {
     "name": "stdout",
     "output_type": "stream",
     "text": [
      "Requirement already satisfied: tweepy in c:\\users\\barah\\anaconda3\\lib\\site-packages (4.10.1)\n",
      "Requirement already satisfied: requests-oauthlib<2,>=1.2.0 in c:\\users\\barah\\anaconda3\\lib\\site-packages (from tweepy) (1.3.1)\n",
      "Requirement already satisfied: requests<3,>=2.27.0 in c:\\users\\barah\\anaconda3\\lib\\site-packages (from tweepy) (2.27.1)\n",
      "Requirement already satisfied: oauthlib<4,>=3.2.0 in c:\\users\\barah\\anaconda3\\lib\\site-packages (from tweepy) (3.2.1)\n",
      "Requirement already satisfied: urllib3<1.27,>=1.21.1 in c:\\users\\barah\\anaconda3\\lib\\site-packages (from requests<3,>=2.27.0->tweepy) (1.26.9)\n",
      "Requirement already satisfied: idna<4,>=2.5 in c:\\users\\barah\\anaconda3\\lib\\site-packages (from requests<3,>=2.27.0->tweepy) (3.3)\n",
      "Requirement already satisfied: charset-normalizer~=2.0.0 in c:\\users\\barah\\anaconda3\\lib\\site-packages (from requests<3,>=2.27.0->tweepy) (2.0.4)\n",
      "Requirement already satisfied: certifi>=2017.4.17 in c:\\users\\barah\\anaconda3\\lib\\site-packages (from requests<3,>=2.27.0->tweepy) (2021.10.8)\n"
     ]
    }
   ],
   "source": [
    "!pip install tweepy"
   ]
  },
  {
   "cell_type": "code",
   "execution_count": 2,
   "id": "4d20a7ba",
   "metadata": {},
   "outputs": [],
   "source": [
    "# Import tweepy to work with the twitter API\n",
    "import tweepy as tw\n",
    "\n",
    "# Import numpy and pandas to work with dataframes\n",
    "import numpy as np\n",
    "import pandas as pd\n",
    "\n",
    "# Import seaborn and matplotlib for viz\n",
    "from matplotlib import pyplot as plt"
   ]
  },
  {
   "cell_type": "code",
   "execution_count": 3,
   "id": "2b6fb145",
   "metadata": {},
   "outputs": [],
   "source": [
    "consumer_key = \n",
    "consumer_secret = \n",
    "access_token = \n",
    "access_token_secret ="
   ]
  },
  {
   "cell_type": "code",
   "execution_count": 4,
   "id": "5cad59df",
   "metadata": {},
   "outputs": [],
   "source": [
    "# Authenticate\n",
    "auth = tw.OAuthHandler(consumer_key, consumer_secret)\n",
    "# Set Tokens\n",
    "auth.set_access_token(access_token, access_token_secret)\n",
    "# Instantiate API\n",
    "api = tw.API(auth, wait_on_rate_limit=True)"
   ]
  },
  {
   "cell_type": "markdown",
   "id": "3e64cf13",
   "metadata": {},
   "source": [
    "## Get Tweets"
   ]
  },
  {
   "cell_type": "code",
   "execution_count": 5,
   "id": "f34e7810",
   "metadata": {},
   "outputs": [
    {
     "name": "stdout",
     "output_type": "stream",
     "text": [
      "[{'Tweet': 'RT @MonopolyMan007: Anyone want a 12.9\" ipad pro? I will be giving one away in 72 hours to one lucky follower. To enter this raffle just fo…', 'Timestamp': datetime.datetime(2022, 10, 19, 22, 38, 42, tzinfo=datetime.timezone.utc)}, {'Tweet': 'RT @Hk3ToN: TelegramUltraPrivateChannel \\n   (On my top page in my Bio)\\n\\n&gt;&gt; FOR &lt;&lt;\\n#iPhone14\\n#SamsungGalaxy\\n#iPad\\n#8k #Display\\n-------------…', 'Timestamp': datetime.datetime(2022, 10, 19, 22, 35, 27, tzinfo=datetime.timezone.utc)}, {'Tweet': '#IPhone14 Or Her https://t.co/QwSvKRYNVz', 'Timestamp': datetime.datetime(2022, 10, 19, 22, 34, 11, tzinfo=datetime.timezone.utc)}, {'Tweet': 'RT @MonopolyMan007: iPhone14 giveaway to one of my followers in 48 hours. To enter this raffle follow the steps below.\\n\\nFollow+❤+♻️+Spam co…', 'Timestamp': datetime.datetime(2022, 10, 19, 22, 30, 57, tzinfo=datetime.timezone.utc)}, {'Tweet': '@MonopolyMan007 #ipadpro2022 #iPhone14\\n#iphonegiveaway #AppleWatch here some others too #SupportScottishYouTubers… https://t.co/FK1X18ZkI2', 'Timestamp': datetime.datetime(2022, 10, 19, 22, 30, 48, tzinfo=datetime.timezone.utc)}, {'Tweet': 'RT @MonopolyMan007: Anyone want a 12.9\" ipad pro? I will be giving one away in 72 hours to one lucky follower. To enter this raffle just fo…', 'Timestamp': datetime.datetime(2022, 10, 19, 22, 27, 53, tzinfo=datetime.timezone.utc)}, {'Tweet': 'RT @Official_1Combo: We can record our life in #Web3.\\n\\n🧑College: Combine my #BAYC with a shirt. \\n🕴️Rookie employee: Dress my BAYC in a suit…', 'Timestamp': datetime.datetime(2022, 10, 19, 22, 22, 26, tzinfo=datetime.timezone.utc)}, {'Tweet': \"@MonopolyMan007 I'm trying my luck\\n #ipadpro2022 #iPhone14\\n#iphonegiveaway #AppleWatch\", 'Timestamp': datetime.datetime(2022, 10, 19, 22, 13, 30, tzinfo=datetime.timezone.utc)}, {'Tweet': 'RT @MonopolyMan007: Anyone want a 12.9\" ipad pro? I will be giving one away in 72 hours to one lucky follower. To enter this raffle just fo…', 'Timestamp': datetime.datetime(2022, 10, 19, 22, 9, 1, tzinfo=datetime.timezone.utc)}, {'Tweet': \"All iPhone's screenshots are taken with a low battery. \\n\\n#burble_tweet #iPhone14\", 'Timestamp': datetime.datetime(2022, 10, 19, 22, 6, 21, tzinfo=datetime.timezone.utc)}, {'Tweet': '@KrooBank Loving the red #kroobank #Halloween #iphone14', 'Timestamp': datetime.datetime(2022, 10, 19, 22, 5, 31, tzinfo=datetime.timezone.utc)}, {'Tweet': 'Anyone else upgrade to the 14 pro and see a massive drop in signal coverage? #tmobile #iPhone14', 'Timestamp': datetime.datetime(2022, 10, 19, 22, 4, 25, tzinfo=datetime.timezone.utc)}, {'Tweet': '@madebygoogle #Pixel7Pro on @Verizon network is suffering to connect to #5G network. Where as the @Apple #iphone14… https://t.co/fTPKZKcVpl', 'Timestamp': datetime.datetime(2022, 10, 19, 22, 4, 3, tzinfo=datetime.timezone.utc)}, {'Tweet': 'Why are #iOS16 home screen widgets black and white while #iPhone14 AOD is color? \\n\\nThings that make no sense!!\\n\\nTim 🍎 pls fix?', 'Timestamp': datetime.datetime(2022, 10, 19, 22, 1, 54, tzinfo=datetime.timezone.utc)}, {'Tweet': 'AT&amp;T offers $800 discount on Apple #iPhone14: https://t.co/dmecbXyVu1', 'Timestamp': datetime.datetime(2022, 10, 19, 21, 50, 5, tzinfo=datetime.timezone.utc)}, {'Tweet': 'RT @MonopolyMan007: Anyone want a 12.9\" ipad pro? I will be giving one away in 72 hours to one lucky follower. To enter this raffle just fo…', 'Timestamp': datetime.datetime(2022, 10, 19, 21, 48, 47, tzinfo=datetime.timezone.utc)}, {'Tweet': '@MonopolyMan007 The Perfect gift for you @Azahara_fc96  #ipadpro2022 #iPhone14\\n#iphonegiveaway #AppleWatch\\n#NVIDIA #AppleWatch #AppleiPad', 'Timestamp': datetime.datetime(2022, 10, 19, 21, 48, 44, tzinfo=datetime.timezone.utc)}, {'Tweet': 'RT @MonopolyMan007: Anyone want a 12.9\" ipad pro? I will be giving one away in 72 hours to one lucky follower. To enter this raffle just fo…', 'Timestamp': datetime.datetime(2022, 10, 19, 21, 43, 23, tzinfo=datetime.timezone.utc)}, {'Tweet': 'Trying out the dark amber leather case for my #Apple #iPhone14ProMax what you think 🤔 #iPhone14Pro #iPhone… https://t.co/LczyvAqUPM', 'Timestamp': datetime.datetime(2022, 10, 19, 21, 38, 34, tzinfo=datetime.timezone.utc)}, {'Tweet': '✅Dubai Mall iPhone 14 Pro 128GB Deep Purple\\nLink: https://t.co/6DhmSTvdqo \\n#iphone14pro #iphone14promax #iphone14 #iphonedubai', 'Timestamp': datetime.datetime(2022, 10, 19, 21, 27, 44, tzinfo=datetime.timezone.utc)}, {'Tweet': 'RT @awsiiq: new wallpaper add to gdrive #iPhone14 #wallpaper \\n\\n$5 to access to the gdrive \\n\\nhttps://t.co/YSLw5KUCND https://t.co/6rbysGQdl7', 'Timestamp': datetime.datetime(2022, 10, 19, 21, 23, 11, tzinfo=datetime.timezone.utc)}, {'Tweet': \"'Rolling Hills'\\n\\nhttps://t.co/fbICQ9IxUP\\n\\n#Prints #etsystore #art #illustrationart #markerart #abstractart… https://t.co/2RxN9tPLUK\", 'Timestamp': datetime.datetime(2022, 10, 19, 21, 16, 54, tzinfo=datetime.timezone.utc)}, {'Tweet': 'iPhone 14 Plus Clear Prismatic MagSafe Case\\n— ATOMIC slim\\n🛡️💪🏽🛡️\\n#Ghostek #AppleiPhone14 #AppleiPhone14Plus… https://t.co/JrVH4dCmTj', 'Timestamp': datetime.datetime(2022, 10, 19, 21, 15, 4, tzinfo=datetime.timezone.utc)}, {'Tweet': '✅Dubai Mall iPhone 14 Pro 256GB Gold\\nLink: https://t.co/zOQNoSSnLA \\n#iphone14pro #iphone14promax #iphone14 #iphonedubai', 'Timestamp': datetime.datetime(2022, 10, 19, 21, 8, 44, tzinfo=datetime.timezone.utc)}, {'Tweet': 'RT @MonopolyMan007: Anyone want a 12.9\" ipad pro? I will be giving one away in 72 hours to one lucky follower. To enter this raffle just fo…', 'Timestamp': datetime.datetime(2022, 10, 19, 21, 0, 25, tzinfo=datetime.timezone.utc)}, {'Tweet': 'RT @MonopolyMan007: Anyone want a 12.9\" ipad pro? I will be giving one away in 72 hours to one lucky follower. To enter this raffle just fo…', 'Timestamp': datetime.datetime(2022, 10, 19, 21, 0, 13, tzinfo=datetime.timezone.utc)}, {'Tweet': '✅Dubai Mall iPhone 14 Pro Max 256GB Gold\\nLink: https://t.co/aAPg3qrdz1 \\n#iphone14pro #iphone14promax #iphone14 #iphonedubai', 'Timestamp': datetime.datetime(2022, 10, 19, 20, 50, 50, tzinfo=datetime.timezone.utc)}, {'Tweet': 'RT @MonopolyMan007: iPhone14 giveaway to one of my followers in 48 hours. To enter this raffle follow the steps below.\\n\\nFollow+❤+♻️+Spam co…', 'Timestamp': datetime.datetime(2022, 10, 19, 20, 39, 49, tzinfo=datetime.timezone.utc)}, {'Tweet': 'RT @MonopolyMan007: Anyone want a 12.9\" ipad pro? I will be giving one away in 72 hours to one lucky follower. To enter this raffle just fo…', 'Timestamp': datetime.datetime(2022, 10, 19, 20, 37, 55, tzinfo=datetime.timezone.utc)}, {'Tweet': '✅Mall of Emirates iPhone 14 Pro 128GB Space Black\\nLink: https://t.co/spiJ1l5HkM \\n#iphone14pro #iphone14promax #iphone14 #iphonedubai', 'Timestamp': datetime.datetime(2022, 10, 19, 20, 36, 16, tzinfo=datetime.timezone.utc)}, {'Tweet': '@MonopolyMan007 #ipadpro2022 #iPhone14\\n#iphonegiveaway and #AppleWatch\\nGood luck everyone!', 'Timestamp': datetime.datetime(2022, 10, 19, 20, 33, 53, tzinfo=datetime.timezone.utc)}, {'Tweet': 'RT @Official_1Combo: We can record our life in #Web3.\\n\\n🧑College: Combine my #BAYC with a shirt. \\n🕴️Rookie employee: Dress my BAYC in a suit…', 'Timestamp': datetime.datetime(2022, 10, 19, 20, 33, 9, tzinfo=datetime.timezone.utc)}, {'Tweet': 'RT @MonopolyMan007: Anyone want a 12.9\" ipad pro? I will be giving one away in 72 hours to one lucky follower. To enter this raffle just fo…', 'Timestamp': datetime.datetime(2022, 10, 19, 20, 33, 3, tzinfo=datetime.timezone.utc)}, {'Tweet': '✅Mall of Emirates iPhone 14 Pro 256GB Gold\\nLink: https://t.co/7Jr2ahGUeo \\n#iphone14pro #iphone14promax #iphone14 #iphonedubai', 'Timestamp': datetime.datetime(2022, 10, 19, 20, 21, 24, tzinfo=datetime.timezone.utc)}, {'Tweet': 'RT @WAX_BALLZ: 📱GET A CHANCE TO WIN an #iphone\\n\\nMy Iphone NFT X \\n\\nPrizes\\n🏆5 WL from @MyIphoneNFT \\n\\nTo Enter\\n1️⃣Follow @MyIphoneNFT and @WAX…', 'Timestamp': datetime.datetime(2022, 10, 19, 20, 21, 3, tzinfo=datetime.timezone.utc)}, {'Tweet': 'Apple Inc is cutting production of iPhone 14 Plus within weeks of starting shipments as it re-evaluates demand for… https://t.co/kpH32jLcln', 'Timestamp': datetime.datetime(2022, 10, 19, 20, 18, 36, tzinfo=datetime.timezone.utc)}, {'Tweet': 'How do you change the clock font back to skinny in iOS 16 without creating completely new wallpaper? They let you s… https://t.co/wzX4t5QKSY', 'Timestamp': datetime.datetime(2022, 10, 19, 20, 11, 46, tzinfo=datetime.timezone.utc)}, {'Tweet': '✅Mall of Emirates iPhone 14 Pro Max 256GB Space Black\\nLink: https://t.co/dO2DV0MHAE \\n#iphone14pro #iphone14promax #iphone14 #iphonedubai', 'Timestamp': datetime.datetime(2022, 10, 19, 20, 5, 48, tzinfo=datetime.timezone.utc)}, {'Tweet': 'RT @Official_1Combo: We can record our life in #Web3.\\n\\n🧑College: Combine my #BAYC with a shirt. \\n🕴️Rookie employee: Dress my BAYC in a suit…', 'Timestamp': datetime.datetime(2022, 10, 19, 20, 2, 35, tzinfo=datetime.timezone.utc)}, {'Tweet': '@MonopolyMan007 Would be mad to win this #ipadpro2022 #iPhone14\\n#iphonegiveaway #AppleWatch', 'Timestamp': datetime.datetime(2022, 10, 19, 20, 0, 21, tzinfo=datetime.timezone.utc)}, {'Tweet': 'RT @MonopolyMan007: Anyone want a 12.9\" ipad pro? I will be giving one away in 72 hours to one lucky follower. To enter this raffle just fo…', 'Timestamp': datetime.datetime(2022, 10, 19, 19, 58, 23, tzinfo=datetime.timezone.utc)}, {'Tweet': 'RT @MonopolyMan007: Anyone want a 12.9\" ipad pro? I will be giving one away in 72 hours to one lucky follower. To enter this raffle just fo…', 'Timestamp': datetime.datetime(2022, 10, 19, 19, 57, 18, tzinfo=datetime.timezone.utc)}, {'Tweet': 'RT @techinsightsinc: Look inside the @Apple #iPhone14 with TechInsights’ Stacy Wegner and discover what those details mean for smartphone a…', 'Timestamp': datetime.datetime(2022, 10, 19, 19, 56, 18, tzinfo=datetime.timezone.utc)}, {'Tweet': 'RT @MonopolyMan007: Anyone want a 12.9\" ipad pro? I will be giving one away in 72 hours to one lucky follower. To enter this raffle just fo…', 'Timestamp': datetime.datetime(2022, 10, 19, 19, 56, 12, tzinfo=datetime.timezone.utc)}, {'Tweet': 'RT @MonopolyMan007: Anyone want a 12.9\" ipad pro? I will be giving one away in 72 hours to one lucky follower. To enter this raffle just fo…', 'Timestamp': datetime.datetime(2022, 10, 19, 19, 56, 8, tzinfo=datetime.timezone.utc)}, {'Tweet': 'iPhone 14 Series Available\\nIn\\nNo Credit Check Financing\\n\\nApply Today\\nContact Now: +1(571)771-1775\\nVisit Our Website… https://t.co/TQjP6vxKNO', 'Timestamp': datetime.datetime(2022, 10, 19, 19, 55, 38, tzinfo=datetime.timezone.utc)}, {'Tweet': 'RT @MonopolyMan007: Anyone want a 12.9\" ipad pro? I will be giving one away in 72 hours to one lucky follower. To enter this raffle just fo…', 'Timestamp': datetime.datetime(2022, 10, 19, 19, 54, 34, tzinfo=datetime.timezone.utc)}, {'Tweet': '✅Mall of Emirates iPhone 14 Pro Max 256GB Gold\\nLink: https://t.co/68LC3bptf7 \\n#iphone14pro #iphone14promax #iphone14 #iphonedubai', 'Timestamp': datetime.datetime(2022, 10, 19, 19, 51, 13, tzinfo=datetime.timezone.utc)}, {'Tweet': '✅Mall of Emirates iPhone 14 Pro 512GB Gold\\nLink: https://t.co/Dm3MRmgT2F \\n#iphone14pro #iphone14promax #iphone14 #iphonedubai', 'Timestamp': datetime.datetime(2022, 10, 19, 19, 51, 13, tzinfo=datetime.timezone.utc)}, {'Tweet': '✅Mall of Emirates iPhone 14 Pro 256GB Silver\\nLink: https://t.co/hEfn8fmC6Z \\n#iphone14pro #iphone14promax #iphone14 #iphonedubai', 'Timestamp': datetime.datetime(2022, 10, 19, 19, 51, 13, tzinfo=datetime.timezone.utc)}, {'Tweet': '✅Mall of Emirates iPhone 14 Pro 128GB Silver\\nLink: https://t.co/DG2VvxRkpW \\n#iphone14pro #iphone14promax #iphone14 #iphonedubai', 'Timestamp': datetime.datetime(2022, 10, 19, 19, 51, 12, tzinfo=datetime.timezone.utc)}, {'Tweet': '✅Dubai Mall iPhone 14 Pro 128GB Deep Purple\\nLink: https://t.co/6DhmSTMgso \\n#iphone14pro #iphone14promax #iphone14 #iphonedubai', 'Timestamp': datetime.datetime(2022, 10, 19, 19, 51, 12, tzinfo=datetime.timezone.utc)}, {'Tweet': 'RT @MonopolyMan007: iPhone14 giveaway to one of my followers in 48 hours. To enter this raffle follow the steps below.\\n\\nFollow+❤+♻️+Spam co…', 'Timestamp': datetime.datetime(2022, 10, 19, 19, 50, 10, tzinfo=datetime.timezone.utc)}, {'Tweet': 'RT @MonopolyMan007: Anyone want a 12.9\" ipad pro? I will be giving one away in 72 hours to one lucky follower. To enter this raffle just fo…', 'Timestamp': datetime.datetime(2022, 10, 19, 19, 48, 12, tzinfo=datetime.timezone.utc)}, {'Tweet': 'RT @TechAcrobat: Download iPhone 14 and iPhone 14 Pro Wallpapers [4K QHD+ Resolution]\\nread more... https://t.co/EYXn5xuP8n\\n#iPhone14 #iPhon…', 'Timestamp': datetime.datetime(2022, 10, 19, 19, 48, 5, tzinfo=datetime.timezone.utc)}, {'Tweet': '✅Mall of Emirates iPhone 14 Pro 512GB Space Black\\nLink: https://t.co/AwlgSrWcov \\n#iphone14pro #iphone14promax #iphone14 #iphonedubai', 'Timestamp': datetime.datetime(2022, 10, 19, 19, 36, 3, tzinfo=datetime.timezone.utc)}, {'Tweet': 'Let’s make today a happy day! ❤️😍\\u2060\\nDeluxe Rainbow Case\\nAvailable for all iPhones\\u2060, get yours now!\\u2060\\n\\u2060\\u2060\\u2060\\nFree Worldwi… https://t.co/TC5tEhUtqQ', 'Timestamp': datetime.datetime(2022, 10, 19, 19, 35, 39, tzinfo=datetime.timezone.utc)}, {'Tweet': 'RT @MonopolyMan007: Anyone want a 12.9\" ipad pro? I will be giving one away in 72 hours to one lucky follower. To enter this raffle just fo…', 'Timestamp': datetime.datetime(2022, 10, 19, 19, 33, 26, tzinfo=datetime.timezone.utc)}, {'Tweet': '✅Mall of Emirates iPhone 14 Pro Max 512GB Silver\\nLink: https://t.co/4FPvyeSopx \\n#iphone14pro #iphone14promax #iphone14 #iphonedubai', 'Timestamp': datetime.datetime(2022, 10, 19, 19, 21, 12, tzinfo=datetime.timezone.utc)}, {'Tweet': 'RT @techinsightsinc: Look inside the @Apple #iPhone14 with TechInsights’ Stacy Wegner and discover what those details mean for smartphone a…', 'Timestamp': datetime.datetime(2022, 10, 19, 19, 20, 42, tzinfo=datetime.timezone.utc)}, {'Tweet': 'RT @MonopolyMan007: Anyone want a 12.9\" ipad pro? I will be giving one away in 72 hours to one lucky follower. To enter this raffle just fo…', 'Timestamp': datetime.datetime(2022, 10, 19, 19, 20, 22, tzinfo=datetime.timezone.utc)}, {'Tweet': 'iPhone 14/Plus/Pro/Pro Max Genuine Leather Case - Detachable Magnetic Bumper/Wallet Case - RFID Blocking Card Slots… https://t.co/CgyLIMPLqd', 'Timestamp': datetime.datetime(2022, 10, 19, 19, 16, 54, tzinfo=datetime.timezone.utc)}, {'Tweet': 'Download our latest update for new features as well as a new icon &amp; keep your eye out for more UI improvements comi… https://t.co/KYR0Q3m0Hh', 'Timestamp': datetime.datetime(2022, 10, 19, 19, 5, 12, tzinfo=datetime.timezone.utc)}, {'Tweet': 'Look inside the @Apple #iPhone14 with TechInsights’ Stacy Wegner and discover what those details mean for smartphon… https://t.co/6JeeasLX7i', 'Timestamp': datetime.datetime(2022, 10, 19, 19, 4, 21, tzinfo=datetime.timezone.utc)}, {'Tweet': 'RT @josephn2435: Apple iphone  pre-christmas Giveaway is on.50,000 iphones to be given  away as a thankyou for Shopping with then during th…', 'Timestamp': datetime.datetime(2022, 10, 19, 19, 3, 6, tzinfo=datetime.timezone.utc)}, {'Tweet': 'RT @josephn2435: Apple iphone  pre-christmas Giveaway is on.50,000 iphones to be given  away as a thankyou for Shopping with then during th…', 'Timestamp': datetime.datetime(2022, 10, 19, 19, 2, 55, tzinfo=datetime.timezone.utc)}, {'Tweet': 'RT @josephn2435: Apple iphone  pre-christmas Giveaway is on.50,000 iphones to be given  away as a thankyou for Shopping with then during th…', 'Timestamp': datetime.datetime(2022, 10, 19, 19, 2, 29, tzinfo=datetime.timezone.utc)}, {'Tweet': 'RT @MonopolyMan007: Anyone want a 12.9\" ipad pro? I will be giving one away in 72 hours to one lucky follower. To enter this raffle just fo…', 'Timestamp': datetime.datetime(2022, 10, 19, 19, 1, 58, tzinfo=datetime.timezone.utc)}, {'Tweet': '✅Mall of Emirates iPhone 14 Pro 256GB Silver\\nLink: https://t.co/hEfn8f5z4Z \\n#iphone14pro #iphone14promax #iphone14 #iphonedubai', 'Timestamp': datetime.datetime(2022, 10, 19, 19, 1, 4, tzinfo=datetime.timezone.utc)}, {'Tweet': 'RT @josephn2435: Apple iphone  pre-christmas Giveaway is on.50,000 iphones to be given  away as a thankyou for Shopping with then during th…', 'Timestamp': datetime.datetime(2022, 10, 19, 19, 0, 44, tzinfo=datetime.timezone.utc)}, {'Tweet': 'RT @awsiiq: new wallpaper #iPhone14 #wallpaper \\n\\ndownload ⬇️ \\n\\nhttps://t.co/HHNtMYP3bF https://t.co/l02fNPI9pp', 'Timestamp': datetime.datetime(2022, 10, 19, 19, 0, 28, tzinfo=datetime.timezone.utc)}, {'Tweet': 'RT @josephn2435: Apple iphone  pre-christmas Giveaway is on.50,000 iphones to be given  away as a thankyou for Shopping with then during th…', 'Timestamp': datetime.datetime(2022, 10, 19, 18, 58, 43, tzinfo=datetime.timezone.utc)}, {'Tweet': 'RT @josephn2435: Apple iphone  pre-christmas Giveaway is on.50,000 iphones to be given  away as a thankyou for Shopping with then during th…', 'Timestamp': datetime.datetime(2022, 10, 19, 18, 58, 34, tzinfo=datetime.timezone.utc)}, {'Tweet': 'RT @josephn2435: Apple iphone  pre-christmas Giveaway is on.50,000 iphones to be given  away as a thankyou for Shopping with then during th…', 'Timestamp': datetime.datetime(2022, 10, 19, 18, 57, 43, tzinfo=datetime.timezone.utc)}, {'Tweet': 'RT @josephn2435: Apple iphone  pre-christmas Giveaway is on.50,000 iphones to be given  away as a thankyou for Shopping with then during th…', 'Timestamp': datetime.datetime(2022, 10, 19, 18, 56, 22, tzinfo=datetime.timezone.utc)}, {'Tweet': 'RT @josephn2435: Apple iphone  pre-christmas Giveaway is on.50,000 iphones to be given  away as a thankyou for Shopping with then during th…', 'Timestamp': datetime.datetime(2022, 10, 19, 18, 56, 11, tzinfo=datetime.timezone.utc)}, {'Tweet': 'RT @Zoyakha83110301: Look where we have reached…….so true …… #news #newprofliepic #tuesdayvibe #GFvip #nsfwtwt #iPhone14 #Web3 https://t.co…', 'Timestamp': datetime.datetime(2022, 10, 19, 18, 55, 11, tzinfo=datetime.timezone.utc)}, {'Tweet': '✅Mall of Emirates iPhone 14 Pro Max 512GB Gold\\nLink: https://t.co/YyCI8fpZLI \\n#iphone14pro #iphone14promax #iphone14 #iphonedubai', 'Timestamp': datetime.datetime(2022, 10, 19, 18, 50, 43, tzinfo=datetime.timezone.utc)}, {'Tweet': 'RT @mozza_illust: ⚡️CASETiFY \\nNEW DESIGN UPDATE🧀\\n\\nhttps://t.co/nVSn7aKwsU\\n\\n#CASETiFY #phonecase #iPhone14\\n#illust https://t.co/2tbrrw2jy5', 'Timestamp': datetime.datetime(2022, 10, 19, 18, 50, 32, tzinfo=datetime.timezone.utc)}, {'Tweet': 'RT @MonopolyMan007: Anyone want a 12.9\" ipad pro? I will be giving one away in 72 hours to one lucky follower. To enter this raffle just fo…', 'Timestamp': datetime.datetime(2022, 10, 19, 18, 47, 19, tzinfo=datetime.timezone.utc)}, {'Tweet': 'RT @MonopolyMan007: Anyone want a 12.9\" ipad pro? I will be giving one away in 72 hours to one lucky follower. To enter this raffle just fo…', 'Timestamp': datetime.datetime(2022, 10, 19, 18, 39, 6, tzinfo=datetime.timezone.utc)}, {'Tweet': 'RT @MonopolyMan007: Anyone want a 12.9\" ipad pro? I will be giving one away in 72 hours to one lucky follower. To enter this raffle just fo…', 'Timestamp': datetime.datetime(2022, 10, 19, 18, 34, 14, tzinfo=datetime.timezone.utc)}, {'Tweet': 'RT @MonopolyMan007: Anyone want a 12.9\" ipad pro? I will be giving one away in 72 hours to one lucky follower. To enter this raffle just fo…', 'Timestamp': datetime.datetime(2022, 10, 19, 18, 34, 13, tzinfo=datetime.timezone.utc)}, {'Tweet': '✅Dubai Mall iPhone 14 Pro 256GB Space Black\\nLink: https://t.co/tauKHtBQ6L \\n#iphone14pro #iphone14promax #iphone14 #iphonedubai', 'Timestamp': datetime.datetime(2022, 10, 19, 18, 32, 6, tzinfo=datetime.timezone.utc)}, {'Tweet': 'Check https://t.co/ABhcqJwIZ2\\n.\\u2060\\n.\\u2060\\n.\\u2060\\n.\\u2060\\n#halloween #samsung #iphone14 #iphonecase #phonecases #LEDphonecase #art… https://t.co/pZDyM7oqaW', 'Timestamp': datetime.datetime(2022, 10, 19, 18, 30, 43, tzinfo=datetime.timezone.utc)}, {'Tweet': 'RT @MonopolyMan007: Anyone want a 12.9\" ipad pro? I will be giving one away in 72 hours to one lucky follower. To enter this raffle just fo…', 'Timestamp': datetime.datetime(2022, 10, 19, 18, 30, 35, tzinfo=datetime.timezone.utc)}, {'Tweet': 'RT @MonopolyMan007: Anyone want a 12.9\" ipad pro? I will be giving one away in 72 hours to one lucky follower. To enter this raffle just fo…', 'Timestamp': datetime.datetime(2022, 10, 19, 18, 27, 39, tzinfo=datetime.timezone.utc)}, {'Tweet': 'RT @MonopolyMan007: Anyone want a 12.9\" ipad pro? I will be giving one away in 72 hours to one lucky follower. To enter this raffle just fo…', 'Timestamp': datetime.datetime(2022, 10, 19, 18, 25, 21, tzinfo=datetime.timezone.utc)}, {'Tweet': '✅Dubai Mall iPhone 14 Pro 1TB Gold\\nLink: https://t.co/eg3HHslgZn \\n#iphone14pro #iphone14promax #iphone14 #iphonedubai', 'Timestamp': datetime.datetime(2022, 10, 19, 18, 17, 8, tzinfo=datetime.timezone.utc)}, {'Tweet': '✅Mall of Emirates iPhone 14 Pro 512GB Space Black\\nLink: https://t.co/AwlgSrE3an \\n#iphone14pro #iphone14promax #iphone14 #iphonedubai', 'Timestamp': datetime.datetime(2022, 10, 19, 18, 16, 14, tzinfo=datetime.timezone.utc)}, {'Tweet': '@Naija_PR \\nThis is my store link\\nhttps://t.co/RWXGHdYrQZ\\n\\n#etsyshop\\n#EtsySocial\\n#etsyfinds #etsyvintage #ETH… https://t.co/AtyVH2pk3m', 'Timestamp': datetime.datetime(2022, 10, 19, 18, 14, 36, tzinfo=datetime.timezone.utc)}, {'Tweet': 'RT @awsiiq: new wallpaper add to gdrive #iPhone14 #wallpaper https://t.co/0SPK4J60lx', 'Timestamp': datetime.datetime(2022, 10, 19, 18, 14, 22, tzinfo=datetime.timezone.utc)}, {'Tweet': '@premierleague \\nThis is my store link\\nhttps://t.co/RWXGHdGiCR\\n\\n#etsyshop\\n#EtsySocial\\n#etsyfinds #etsyvintage #ETH… https://t.co/sTFO3H7y98', 'Timestamp': datetime.datetime(2022, 10, 19, 18, 14, 13, tzinfo=datetime.timezone.utc)}, {'Tweet': 'This is my store link\\nhttps://t.co/RWXGHdYrQZ\\n\\n#etsyshop\\n#EtsySocial\\n#etsyfinds #etsyvintage #ETH… https://t.co/wJdRC9rFHi', 'Timestamp': datetime.datetime(2022, 10, 19, 18, 13, 56, tzinfo=datetime.timezone.utc)}, {'Tweet': 'Apple Decided to Decrease iPhone 14 Plus Production\\n\\nSource: https://t.co/XIMGMyALxe\\n\\n#iphone14 #technews #apple https://t.co/PhDb37PFgC', 'Timestamp': datetime.datetime(2022, 10, 19, 18, 13, 36, tzinfo=datetime.timezone.utc)}, {'Tweet': 'iPhone 14 Plus Production Decreased by Apple\\n\\nSource: https://t.co/XIMGMyiCj6\\n\\n#apple #iphone14 #news #technology https://t.co/rfLP12jw1m', 'Timestamp': datetime.datetime(2022, 10, 19, 18, 5, 36, tzinfo=datetime.timezone.utc)}, {'Tweet': '@MonopolyMan007 #ipadpro2022 #iphone14 #iphonegiveaway #applewatch good luck to everyone 👍🏼🙏🏼🤞🏼', 'Timestamp': datetime.datetime(2022, 10, 19, 18, 3, 22, tzinfo=datetime.timezone.utc)}, {'Tweet': 'new wallpaper add to gdrive #iPhone14 #wallpaper \\n\\n$5 to access to the gdrive \\n\\nhttps://t.co/YSLw5KUCND https://t.co/6rbysGQdl7', 'Timestamp': datetime.datetime(2022, 10, 19, 18, 0, 47, tzinfo=datetime.timezone.utc)}, {'Tweet': '.@Apple announces an #M2-powered #iPadPro with WiFi 6E, @AppleTV 4K gets an upgrade, and a leaked memo acknowledges… https://t.co/nj4Ua1l4xK', 'Timestamp': datetime.datetime(2022, 10, 19, 18, 0, 1, tzinfo=datetime.timezone.utc)}, {'Tweet': 'RT @MonopolyMan007: Anyone want a 12.9\" ipad pro? I will be giving one away in 72 hours to one lucky follower. To enter this raffle just fo…', 'Timestamp': datetime.datetime(2022, 10, 19, 17, 59, 55, tzinfo=datetime.timezone.utc)}]\n"
     ]
    }
   ],
   "source": [
    "\n",
    "hashtag = \"#iphone14\"\n",
    "query = tw.Cursor(api.search_tweets, q=hashtag,lang=\"en\").items(100)\n",
    "tweets = [{'Tweet':tweet.text, 'Timestamp':tweet.created_at} for tweet in query]\n",
    "print(tweets)"
   ]
  },
  {
   "cell_type": "code",
   "execution_count": 6,
   "id": "f8427e26",
   "metadata": {},
   "outputs": [
    {
     "data": {
      "text/plain": [
       "[{'Tweet': 'RT @MonopolyMan007: Anyone want a 12.9\" ipad pro? I will be giving one away in 72 hours to one lucky follower. To enter this raffle just fo…',\n",
       "  'Timestamp': datetime.datetime(2022, 10, 19, 22, 38, 42, tzinfo=datetime.timezone.utc)},\n",
       " {'Tweet': 'RT @Hk3ToN: TelegramUltraPrivateChannel \\n   (On my top page in my Bio)\\n\\n&gt;&gt; FOR &lt;&lt;\\n#iPhone14\\n#SamsungGalaxy\\n#iPad\\n#8k #Display\\n-------------…',\n",
       "  'Timestamp': datetime.datetime(2022, 10, 19, 22, 35, 27, tzinfo=datetime.timezone.utc)},\n",
       " {'Tweet': '#IPhone14 Or Her https://t.co/QwSvKRYNVz',\n",
       "  'Timestamp': datetime.datetime(2022, 10, 19, 22, 34, 11, tzinfo=datetime.timezone.utc)},\n",
       " {'Tweet': 'RT @MonopolyMan007: iPhone14 giveaway to one of my followers in 48 hours. To enter this raffle follow the steps below.\\n\\nFollow+❤+♻️+Spam co…',\n",
       "  'Timestamp': datetime.datetime(2022, 10, 19, 22, 30, 57, tzinfo=datetime.timezone.utc)},\n",
       " {'Tweet': '@MonopolyMan007 #ipadpro2022 #iPhone14\\n#iphonegiveaway #AppleWatch here some others too #SupportScottishYouTubers… https://t.co/FK1X18ZkI2',\n",
       "  'Timestamp': datetime.datetime(2022, 10, 19, 22, 30, 48, tzinfo=datetime.timezone.utc)},\n",
       " {'Tweet': 'RT @MonopolyMan007: Anyone want a 12.9\" ipad pro? I will be giving one away in 72 hours to one lucky follower. To enter this raffle just fo…',\n",
       "  'Timestamp': datetime.datetime(2022, 10, 19, 22, 27, 53, tzinfo=datetime.timezone.utc)},\n",
       " {'Tweet': 'RT @Official_1Combo: We can record our life in #Web3.\\n\\n🧑College: Combine my #BAYC with a shirt. \\n🕴️Rookie employee: Dress my BAYC in a suit…',\n",
       "  'Timestamp': datetime.datetime(2022, 10, 19, 22, 22, 26, tzinfo=datetime.timezone.utc)},\n",
       " {'Tweet': \"@MonopolyMan007 I'm trying my luck\\n #ipadpro2022 #iPhone14\\n#iphonegiveaway #AppleWatch\",\n",
       "  'Timestamp': datetime.datetime(2022, 10, 19, 22, 13, 30, tzinfo=datetime.timezone.utc)},\n",
       " {'Tweet': 'RT @MonopolyMan007: Anyone want a 12.9\" ipad pro? I will be giving one away in 72 hours to one lucky follower. To enter this raffle just fo…',\n",
       "  'Timestamp': datetime.datetime(2022, 10, 19, 22, 9, 1, tzinfo=datetime.timezone.utc)},\n",
       " {'Tweet': \"All iPhone's screenshots are taken with a low battery. \\n\\n#burble_tweet #iPhone14\",\n",
       "  'Timestamp': datetime.datetime(2022, 10, 19, 22, 6, 21, tzinfo=datetime.timezone.utc)}]"
      ]
     },
     "execution_count": 6,
     "metadata": {},
     "output_type": "execute_result"
    }
   ],
   "source": [
    "tweets[:10]"
   ]
  },
  {
   "cell_type": "code",
   "execution_count": 7,
   "id": "8eddc67b",
   "metadata": {},
   "outputs": [],
   "source": [
    "df = pd.DataFrame.from_dict(tweets)\n"
   ]
  },
  {
   "cell_type": "code",
   "execution_count": 8,
   "id": "50c26724",
   "metadata": {},
   "outputs": [
    {
     "data": {
      "text/html": [
       "<div>\n",
       "<style scoped>\n",
       "    .dataframe tbody tr th:only-of-type {\n",
       "        vertical-align: middle;\n",
       "    }\n",
       "\n",
       "    .dataframe tbody tr th {\n",
       "        vertical-align: top;\n",
       "    }\n",
       "\n",
       "    .dataframe thead th {\n",
       "        text-align: right;\n",
       "    }\n",
       "</style>\n",
       "<table border=\"1\" class=\"dataframe\">\n",
       "  <thead>\n",
       "    <tr style=\"text-align: right;\">\n",
       "      <th></th>\n",
       "      <th>Tweet</th>\n",
       "      <th>Timestamp</th>\n",
       "    </tr>\n",
       "  </thead>\n",
       "  <tbody>\n",
       "    <tr>\n",
       "      <th>0</th>\n",
       "      <td>RT @MonopolyMan007: Anyone want a 12.9\" ipad p...</td>\n",
       "      <td>2022-10-19 22:38:42+00:00</td>\n",
       "    </tr>\n",
       "    <tr>\n",
       "      <th>1</th>\n",
       "      <td>RT @Hk3ToN: TelegramUltraPrivateChannel \\n   (...</td>\n",
       "      <td>2022-10-19 22:35:27+00:00</td>\n",
       "    </tr>\n",
       "    <tr>\n",
       "      <th>2</th>\n",
       "      <td>#IPhone14 Or Her https://t.co/QwSvKRYNVz</td>\n",
       "      <td>2022-10-19 22:34:11+00:00</td>\n",
       "    </tr>\n",
       "    <tr>\n",
       "      <th>3</th>\n",
       "      <td>RT @MonopolyMan007: iPhone14 giveaway to one o...</td>\n",
       "      <td>2022-10-19 22:30:57+00:00</td>\n",
       "    </tr>\n",
       "    <tr>\n",
       "      <th>4</th>\n",
       "      <td>@MonopolyMan007 #ipadpro2022 #iPhone14\\n#iphon...</td>\n",
       "      <td>2022-10-19 22:30:48+00:00</td>\n",
       "    </tr>\n",
       "    <tr>\n",
       "      <th>5</th>\n",
       "      <td>RT @MonopolyMan007: Anyone want a 12.9\" ipad p...</td>\n",
       "      <td>2022-10-19 22:27:53+00:00</td>\n",
       "    </tr>\n",
       "    <tr>\n",
       "      <th>6</th>\n",
       "      <td>RT @Official_1Combo: We can record our life in...</td>\n",
       "      <td>2022-10-19 22:22:26+00:00</td>\n",
       "    </tr>\n",
       "    <tr>\n",
       "      <th>7</th>\n",
       "      <td>@MonopolyMan007 I'm trying my luck\\n #ipadpro2...</td>\n",
       "      <td>2022-10-19 22:13:30+00:00</td>\n",
       "    </tr>\n",
       "    <tr>\n",
       "      <th>8</th>\n",
       "      <td>RT @MonopolyMan007: Anyone want a 12.9\" ipad p...</td>\n",
       "      <td>2022-10-19 22:09:01+00:00</td>\n",
       "    </tr>\n",
       "    <tr>\n",
       "      <th>9</th>\n",
       "      <td>All iPhone's screenshots are taken with a low ...</td>\n",
       "      <td>2022-10-19 22:06:21+00:00</td>\n",
       "    </tr>\n",
       "    <tr>\n",
       "      <th>10</th>\n",
       "      <td>@KrooBank Loving the red #kroobank #Halloween ...</td>\n",
       "      <td>2022-10-19 22:05:31+00:00</td>\n",
       "    </tr>\n",
       "    <tr>\n",
       "      <th>11</th>\n",
       "      <td>Anyone else upgrade to the 14 pro and see a ma...</td>\n",
       "      <td>2022-10-19 22:04:25+00:00</td>\n",
       "    </tr>\n",
       "    <tr>\n",
       "      <th>12</th>\n",
       "      <td>@madebygoogle #Pixel7Pro on @Verizon network i...</td>\n",
       "      <td>2022-10-19 22:04:03+00:00</td>\n",
       "    </tr>\n",
       "    <tr>\n",
       "      <th>13</th>\n",
       "      <td>Why are #iOS16 home screen widgets black and w...</td>\n",
       "      <td>2022-10-19 22:01:54+00:00</td>\n",
       "    </tr>\n",
       "    <tr>\n",
       "      <th>14</th>\n",
       "      <td>AT&amp;amp;T offers $800 discount on Apple #iPhone...</td>\n",
       "      <td>2022-10-19 21:50:05+00:00</td>\n",
       "    </tr>\n",
       "  </tbody>\n",
       "</table>\n",
       "</div>"
      ],
      "text/plain": [
       "                                                Tweet  \\\n",
       "0   RT @MonopolyMan007: Anyone want a 12.9\" ipad p...   \n",
       "1   RT @Hk3ToN: TelegramUltraPrivateChannel \\n   (...   \n",
       "2            #IPhone14 Or Her https://t.co/QwSvKRYNVz   \n",
       "3   RT @MonopolyMan007: iPhone14 giveaway to one o...   \n",
       "4   @MonopolyMan007 #ipadpro2022 #iPhone14\\n#iphon...   \n",
       "5   RT @MonopolyMan007: Anyone want a 12.9\" ipad p...   \n",
       "6   RT @Official_1Combo: We can record our life in...   \n",
       "7   @MonopolyMan007 I'm trying my luck\\n #ipadpro2...   \n",
       "8   RT @MonopolyMan007: Anyone want a 12.9\" ipad p...   \n",
       "9   All iPhone's screenshots are taken with a low ...   \n",
       "10  @KrooBank Loving the red #kroobank #Halloween ...   \n",
       "11  Anyone else upgrade to the 14 pro and see a ma...   \n",
       "12  @madebygoogle #Pixel7Pro on @Verizon network i...   \n",
       "13  Why are #iOS16 home screen widgets black and w...   \n",
       "14  AT&amp;T offers $800 discount on Apple #iPhone...   \n",
       "\n",
       "                   Timestamp  \n",
       "0  2022-10-19 22:38:42+00:00  \n",
       "1  2022-10-19 22:35:27+00:00  \n",
       "2  2022-10-19 22:34:11+00:00  \n",
       "3  2022-10-19 22:30:57+00:00  \n",
       "4  2022-10-19 22:30:48+00:00  \n",
       "5  2022-10-19 22:27:53+00:00  \n",
       "6  2022-10-19 22:22:26+00:00  \n",
       "7  2022-10-19 22:13:30+00:00  \n",
       "8  2022-10-19 22:09:01+00:00  \n",
       "9  2022-10-19 22:06:21+00:00  \n",
       "10 2022-10-19 22:05:31+00:00  \n",
       "11 2022-10-19 22:04:25+00:00  \n",
       "12 2022-10-19 22:04:03+00:00  \n",
       "13 2022-10-19 22:01:54+00:00  \n",
       "14 2022-10-19 21:50:05+00:00  "
      ]
     },
     "execution_count": 8,
     "metadata": {},
     "output_type": "execute_result"
    }
   ],
   "source": [
    "df.head(15)"
   ]
  },
  {
   "cell_type": "code",
   "execution_count": 9,
   "id": "2f4b205e",
   "metadata": {},
   "outputs": [
    {
     "data": {
      "text/plain": [
       "(100, 2)"
      ]
     },
     "execution_count": 9,
     "metadata": {},
     "output_type": "execute_result"
    }
   ],
   "source": [
    "df.shape"
   ]
  },
  {
   "cell_type": "code",
   "execution_count": 10,
   "id": "e183fff2",
   "metadata": {},
   "outputs": [],
   "source": [
    "iPhone_11 = ['iPhone11', 'iphone 11', 'iphone11','iphone11promax', 'iphone 11', 'iphone11pro\\'s']\n",
    "iPhone_12 = ['iPhone12', 'iphone 12', 'iphone12','iphone12promax', 'iphone 12', 'iphone12pro\\'s']\n",
    "iPhone_13 = ['iPhone13', 'iphone 13', 'iphone13','iphone13promax', 'iphone 13', 'iphone13pro\\'s']\n",
    "iPhone_14 = ['iPhone14', 'iphone 14', 'iphone14','iphone14promax', 'iphone 14', 'iphone14pro\\'s']"
   ]
  },
  {
   "cell_type": "code",
   "execution_count": 11,
   "id": "46bc2787",
   "metadata": {},
   "outputs": [],
   "source": [
    "def identify_subject(tweet, refs):\n",
    "    flag = 0 \n",
    "    for ref in refs:\n",
    "        if tweet.find(ref) != -1:\n",
    "            flag = 1\n",
    "    return flag\n",
    "\n",
    "#df['iPhone_11'] = df['Tweet'].apply(lambda x: identify_subject(x, iPhone_11)) \n",
    "#df['iPhone_12'] = df['Tweet'].apply(lambda x: identify_subject(x, iPhone_12))\n",
    "#df['iPhone_13'] = df['Tweet'].apply(lambda x: identify_subject(x, iPhone_13)) \n",
    "df['iPhone_14'] = df['Tweet'].apply(lambda x: identify_subject(x, iPhone_14))\n"
   ]
  },
  {
   "cell_type": "code",
   "execution_count": 12,
   "id": "e7cc17b9",
   "metadata": {},
   "outputs": [
    {
     "data": {
      "text/html": [
       "<div>\n",
       "<style scoped>\n",
       "    .dataframe tbody tr th:only-of-type {\n",
       "        vertical-align: middle;\n",
       "    }\n",
       "\n",
       "    .dataframe tbody tr th {\n",
       "        vertical-align: top;\n",
       "    }\n",
       "\n",
       "    .dataframe thead th {\n",
       "        text-align: right;\n",
       "    }\n",
       "</style>\n",
       "<table border=\"1\" class=\"dataframe\">\n",
       "  <thead>\n",
       "    <tr style=\"text-align: right;\">\n",
       "      <th></th>\n",
       "      <th>Tweet</th>\n",
       "      <th>Timestamp</th>\n",
       "      <th>iPhone_14</th>\n",
       "    </tr>\n",
       "  </thead>\n",
       "  <tbody>\n",
       "    <tr>\n",
       "      <th>0</th>\n",
       "      <td>RT @MonopolyMan007: Anyone want a 12.9\" ipad p...</td>\n",
       "      <td>2022-10-19 22:38:42+00:00</td>\n",
       "      <td>0</td>\n",
       "    </tr>\n",
       "    <tr>\n",
       "      <th>1</th>\n",
       "      <td>RT @Hk3ToN: TelegramUltraPrivateChannel \\n   (...</td>\n",
       "      <td>2022-10-19 22:35:27+00:00</td>\n",
       "      <td>1</td>\n",
       "    </tr>\n",
       "    <tr>\n",
       "      <th>2</th>\n",
       "      <td>#IPhone14 Or Her https://t.co/QwSvKRYNVz</td>\n",
       "      <td>2022-10-19 22:34:11+00:00</td>\n",
       "      <td>0</td>\n",
       "    </tr>\n",
       "    <tr>\n",
       "      <th>3</th>\n",
       "      <td>RT @MonopolyMan007: iPhone14 giveaway to one o...</td>\n",
       "      <td>2022-10-19 22:30:57+00:00</td>\n",
       "      <td>1</td>\n",
       "    </tr>\n",
       "    <tr>\n",
       "      <th>4</th>\n",
       "      <td>@MonopolyMan007 #ipadpro2022 #iPhone14\\n#iphon...</td>\n",
       "      <td>2022-10-19 22:30:48+00:00</td>\n",
       "      <td>1</td>\n",
       "    </tr>\n",
       "    <tr>\n",
       "      <th>5</th>\n",
       "      <td>RT @MonopolyMan007: Anyone want a 12.9\" ipad p...</td>\n",
       "      <td>2022-10-19 22:27:53+00:00</td>\n",
       "      <td>0</td>\n",
       "    </tr>\n",
       "    <tr>\n",
       "      <th>6</th>\n",
       "      <td>RT @Official_1Combo: We can record our life in...</td>\n",
       "      <td>2022-10-19 22:22:26+00:00</td>\n",
       "      <td>0</td>\n",
       "    </tr>\n",
       "    <tr>\n",
       "      <th>7</th>\n",
       "      <td>@MonopolyMan007 I'm trying my luck\\n #ipadpro2...</td>\n",
       "      <td>2022-10-19 22:13:30+00:00</td>\n",
       "      <td>1</td>\n",
       "    </tr>\n",
       "    <tr>\n",
       "      <th>8</th>\n",
       "      <td>RT @MonopolyMan007: Anyone want a 12.9\" ipad p...</td>\n",
       "      <td>2022-10-19 22:09:01+00:00</td>\n",
       "      <td>0</td>\n",
       "    </tr>\n",
       "    <tr>\n",
       "      <th>9</th>\n",
       "      <td>All iPhone's screenshots are taken with a low ...</td>\n",
       "      <td>2022-10-19 22:06:21+00:00</td>\n",
       "      <td>1</td>\n",
       "    </tr>\n",
       "  </tbody>\n",
       "</table>\n",
       "</div>"
      ],
      "text/plain": [
       "                                               Tweet  \\\n",
       "0  RT @MonopolyMan007: Anyone want a 12.9\" ipad p...   \n",
       "1  RT @Hk3ToN: TelegramUltraPrivateChannel \\n   (...   \n",
       "2           #IPhone14 Or Her https://t.co/QwSvKRYNVz   \n",
       "3  RT @MonopolyMan007: iPhone14 giveaway to one o...   \n",
       "4  @MonopolyMan007 #ipadpro2022 #iPhone14\\n#iphon...   \n",
       "5  RT @MonopolyMan007: Anyone want a 12.9\" ipad p...   \n",
       "6  RT @Official_1Combo: We can record our life in...   \n",
       "7  @MonopolyMan007 I'm trying my luck\\n #ipadpro2...   \n",
       "8  RT @MonopolyMan007: Anyone want a 12.9\" ipad p...   \n",
       "9  All iPhone's screenshots are taken with a low ...   \n",
       "\n",
       "                  Timestamp  iPhone_14  \n",
       "0 2022-10-19 22:38:42+00:00          0  \n",
       "1 2022-10-19 22:35:27+00:00          1  \n",
       "2 2022-10-19 22:34:11+00:00          0  \n",
       "3 2022-10-19 22:30:57+00:00          1  \n",
       "4 2022-10-19 22:30:48+00:00          1  \n",
       "5 2022-10-19 22:27:53+00:00          0  \n",
       "6 2022-10-19 22:22:26+00:00          0  \n",
       "7 2022-10-19 22:13:30+00:00          1  \n",
       "8 2022-10-19 22:09:01+00:00          0  \n",
       "9 2022-10-19 22:06:21+00:00          1  "
      ]
     },
     "execution_count": 12,
     "metadata": {},
     "output_type": "execute_result"
    }
   ],
   "source": [
    "df.head(10)"
   ]
  },
  {
   "cell_type": "code",
   "execution_count": 13,
   "id": "510b76d1",
   "metadata": {},
   "outputs": [
    {
     "data": {
      "text/html": [
       "<div>\n",
       "<style scoped>\n",
       "    .dataframe tbody tr th:only-of-type {\n",
       "        vertical-align: middle;\n",
       "    }\n",
       "\n",
       "    .dataframe tbody tr th {\n",
       "        vertical-align: top;\n",
       "    }\n",
       "\n",
       "    .dataframe thead th {\n",
       "        text-align: right;\n",
       "    }\n",
       "</style>\n",
       "<table border=\"1\" class=\"dataframe\">\n",
       "  <thead>\n",
       "    <tr style=\"text-align: right;\">\n",
       "      <th></th>\n",
       "      <th>Tweet</th>\n",
       "      <th>Timestamp</th>\n",
       "      <th>iPhone_14</th>\n",
       "    </tr>\n",
       "  </thead>\n",
       "  <tbody>\n",
       "    <tr>\n",
       "      <th>90</th>\n",
       "      <td>@Naija_PR \\nThis is my store link\\nhttps://t.c...</td>\n",
       "      <td>2022-10-19 18:14:36+00:00</td>\n",
       "      <td>0</td>\n",
       "    </tr>\n",
       "    <tr>\n",
       "      <th>91</th>\n",
       "      <td>RT @awsiiq: new wallpaper add to gdrive #iPhon...</td>\n",
       "      <td>2022-10-19 18:14:22+00:00</td>\n",
       "      <td>1</td>\n",
       "    </tr>\n",
       "    <tr>\n",
       "      <th>92</th>\n",
       "      <td>@premierleague \\nThis is my store link\\nhttps:...</td>\n",
       "      <td>2022-10-19 18:14:13+00:00</td>\n",
       "      <td>0</td>\n",
       "    </tr>\n",
       "    <tr>\n",
       "      <th>93</th>\n",
       "      <td>This is my store link\\nhttps://t.co/RWXGHdYrQZ...</td>\n",
       "      <td>2022-10-19 18:13:56+00:00</td>\n",
       "      <td>0</td>\n",
       "    </tr>\n",
       "    <tr>\n",
       "      <th>94</th>\n",
       "      <td>Apple Decided to Decrease iPhone 14 Plus Produ...</td>\n",
       "      <td>2022-10-19 18:13:36+00:00</td>\n",
       "      <td>1</td>\n",
       "    </tr>\n",
       "    <tr>\n",
       "      <th>95</th>\n",
       "      <td>iPhone 14 Plus Production Decreased by Apple\\n...</td>\n",
       "      <td>2022-10-19 18:05:36+00:00</td>\n",
       "      <td>1</td>\n",
       "    </tr>\n",
       "    <tr>\n",
       "      <th>96</th>\n",
       "      <td>@MonopolyMan007 #ipadpro2022 #iphone14 #iphone...</td>\n",
       "      <td>2022-10-19 18:03:22+00:00</td>\n",
       "      <td>1</td>\n",
       "    </tr>\n",
       "    <tr>\n",
       "      <th>97</th>\n",
       "      <td>new wallpaper add to gdrive #iPhone14 #wallpap...</td>\n",
       "      <td>2022-10-19 18:00:47+00:00</td>\n",
       "      <td>1</td>\n",
       "    </tr>\n",
       "    <tr>\n",
       "      <th>98</th>\n",
       "      <td>.@Apple announces an #M2-powered #iPadPro with...</td>\n",
       "      <td>2022-10-19 18:00:01+00:00</td>\n",
       "      <td>0</td>\n",
       "    </tr>\n",
       "    <tr>\n",
       "      <th>99</th>\n",
       "      <td>RT @MonopolyMan007: Anyone want a 12.9\" ipad p...</td>\n",
       "      <td>2022-10-19 17:59:55+00:00</td>\n",
       "      <td>0</td>\n",
       "    </tr>\n",
       "  </tbody>\n",
       "</table>\n",
       "</div>"
      ],
      "text/plain": [
       "                                                Tweet  \\\n",
       "90  @Naija_PR \\nThis is my store link\\nhttps://t.c...   \n",
       "91  RT @awsiiq: new wallpaper add to gdrive #iPhon...   \n",
       "92  @premierleague \\nThis is my store link\\nhttps:...   \n",
       "93  This is my store link\\nhttps://t.co/RWXGHdYrQZ...   \n",
       "94  Apple Decided to Decrease iPhone 14 Plus Produ...   \n",
       "95  iPhone 14 Plus Production Decreased by Apple\\n...   \n",
       "96  @MonopolyMan007 #ipadpro2022 #iphone14 #iphone...   \n",
       "97  new wallpaper add to gdrive #iPhone14 #wallpap...   \n",
       "98  .@Apple announces an #M2-powered #iPadPro with...   \n",
       "99  RT @MonopolyMan007: Anyone want a 12.9\" ipad p...   \n",
       "\n",
       "                   Timestamp  iPhone_14  \n",
       "90 2022-10-19 18:14:36+00:00          0  \n",
       "91 2022-10-19 18:14:22+00:00          1  \n",
       "92 2022-10-19 18:14:13+00:00          0  \n",
       "93 2022-10-19 18:13:56+00:00          0  \n",
       "94 2022-10-19 18:13:36+00:00          1  \n",
       "95 2022-10-19 18:05:36+00:00          1  \n",
       "96 2022-10-19 18:03:22+00:00          1  \n",
       "97 2022-10-19 18:00:47+00:00          1  \n",
       "98 2022-10-19 18:00:01+00:00          0  \n",
       "99 2022-10-19 17:59:55+00:00          0  "
      ]
     },
     "execution_count": 13,
     "metadata": {},
     "output_type": "execute_result"
    }
   ],
   "source": [
    "df.tail(10)"
   ]
  },
  {
   "cell_type": "code",
   "execution_count": null,
   "id": "f4d75597",
   "metadata": {},
   "outputs": [],
   "source": []
  },
  {
   "cell_type": "code",
   "execution_count": null,
   "id": "c9f58e3f",
   "metadata": {},
   "outputs": [],
   "source": []
  },
  {
   "cell_type": "code",
   "execution_count": null,
   "id": "28f8cb08",
   "metadata": {},
   "outputs": [],
   "source": []
  },
  {
   "cell_type": "code",
   "execution_count": null,
   "id": "501902a5",
   "metadata": {},
   "outputs": [],
   "source": []
  },
  {
   "cell_type": "code",
   "execution_count": null,
   "id": "3316c175",
   "metadata": {},
   "outputs": [],
   "source": []
  },
  {
   "cell_type": "code",
   "execution_count": null,
   "id": "45f3bf84",
   "metadata": {},
   "outputs": [],
   "source": []
  },
  {
   "cell_type": "code",
   "execution_count": null,
   "id": "ef6a2823",
   "metadata": {},
   "outputs": [],
   "source": []
  }
 ],
 "metadata": {
  "kernelspec": {
   "display_name": "Python 3 (ipykernel)",
   "language": "python",
   "name": "python3"
  },
  "language_info": {
   "codemirror_mode": {
    "name": "ipython",
    "version": 3
   },
   "file_extension": ".py",
   "mimetype": "text/x-python",
   "name": "python",
   "nbconvert_exporter": "python",
   "pygments_lexer": "ipython3",
   "version": "3.9.12"
  }
 },
 "nbformat": 4,
 "nbformat_minor": 5
}
